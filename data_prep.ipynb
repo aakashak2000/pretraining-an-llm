{
 "cells": [
  {
   "cell_type": "markdown",
   "id": "259b25a3",
   "metadata": {},
   "source": [
    "## LOADING DATASET"
   ]
  },
  {
   "cell_type": "code",
   "execution_count": 9,
   "id": "9d40897c",
   "metadata": {},
   "outputs": [
    {
     "name": "stdout",
     "output_type": "stream",
     "text": [
      "num characters: 20479\n"
     ]
    },
    {
     "data": {
      "text/plain": [
       "'I HAD always thought Jack Gisburn rather a cheap genius--though a good fellow enough--so it was no g'"
      ]
     },
     "execution_count": 9,
     "metadata": {},
     "output_type": "execute_result"
    }
   ],
   "source": [
    "with open(\"data/the-verdict.txt\", 'r', encoding='utf-8') as f:\n",
    "    raw_text = f.read()\n",
    "\n",
    "print(f\"num characters: {len(raw_text)}\")\n",
    "raw_text[:100]"
   ]
  },
  {
   "cell_type": "markdown",
   "id": "29eaaec3",
   "metadata": {},
   "source": [
    "## TOKENIZING"
   ]
  },
  {
   "cell_type": "code",
   "execution_count": 10,
   "id": "d14ef8be",
   "metadata": {},
   "outputs": [
    {
     "name": "stdout",
     "output_type": "stream",
     "text": [
      "['!', '\"', \"'\", '(', ')', ',', '--', '.', ':', ';']\n",
      "Vocab size: 1132\n"
     ]
    }
   ],
   "source": [
    "import re\n",
    "\n",
    "preprocessed = re.split(f'([,.:;?_!\"()\\']|--|\\s)', raw_text)\n",
    "preprocessed = [word for word in preprocessed if word.strip()]\n",
    "all_words = sorted(set(preprocessed))\n",
    "all_words.extend(['<|endoftext|>', '<|unk|>'])\n",
    "print(all_words[:10])\n",
    "print(f\"Vocab size: {len(all_words)}\")\n",
    "\n",
    "stoi = {word: i for i, word in enumerate(all_words)}\n",
    "itos = {i: word for i, word in enumerate(all_words)}\n",
    "\n"
   ]
  },
  {
   "cell_type": "code",
   "execution_count": 11,
   "id": "02302d58",
   "metadata": {},
   "outputs": [
    {
     "data": {
      "text/plain": [
       "'<|unk|>, do you like <|unk|> <|endoftext|> In the sunlit terraces of the <|unk|>.'"
      ]
     },
     "execution_count": 11,
     "metadata": {},
     "output_type": "execute_result"
    }
   ],
   "source": [
    "class Tokenizer:\n",
    "    def __init__(self, vocab):\n",
    "        self.stoi = {word: i for i, word in enumerate(vocab)}\n",
    "        self.itos = {i: word for i, word in enumerate(vocab)}\n",
    "\n",
    "    def encode(self, text):\n",
    "        preprocessed = re.split(r\"([!,.;:'\\\"?()]|--|\\s)\", text)\n",
    "        preprocessed = [word.strip() for word in preprocessed if word.strip()]\n",
    "        preprocessed = [word if word in self.stoi else \"<|unk|>\" for word in preprocessed]\n",
    "        ids = [self.stoi[word] for word in preprocessed]\n",
    "        return ids\n",
    "    \n",
    "    def decode(self, ids):\n",
    "        text = ' '.join([self.itos[idx] for idx in ids])\n",
    "        text = re.sub(r'\\s+([,.?;:\\'\"!()]|--)', r'\\1', text)\n",
    "        return text\n",
    "    \n",
    "\n",
    "tokenizer = Tokenizer(all_words)\n",
    "text1 = \"Hello, do you like football\"\n",
    "text2 = \"In the sunlit terraces of the palace.\"\n",
    "text = \" <|endoftext|> \".join((text1, text2))\n",
    "tokenizer.decode(tokenizer.encode(text))\n",
    "\n"
   ]
  },
  {
   "cell_type": "markdown",
   "id": "9bd4ea6f",
   "metadata": {},
   "source": [
    "## Byte-Pair Encoding (BPE)"
   ]
  },
  {
   "cell_type": "code",
   "execution_count": 43,
   "id": "e030e4d6",
   "metadata": {},
   "outputs": [],
   "source": [
    "import tiktoken\n",
    "import torch\n",
    "\n",
    "from torch.utils.data import Dataset, DataLoader"
   ]
  },
  {
   "cell_type": "code",
   "execution_count": 42,
   "id": "37e00ba7",
   "metadata": {},
   "outputs": [],
   "source": [
    "tokenizer = tiktoken.get_encoding('gpt2')\n",
    "enc_text = tokenizer.encode(raw_text)\n",
    "inputs, outputs = [], []\n",
    "context_size = 8\n",
    "for i in range(len(enc_text) - context_size):\n",
    "    inputs.append(enc_text[i: i + context_size])\n",
    "    outputs.append(enc_text[i + 1: i + context_size + 1])\n",
    "\n",
    "X = torch.tensor(inputs)\n",
    "y = torch.tensor(outputs)"
   ]
  },
  {
   "cell_type": "code",
   "execution_count": 99,
   "id": "b3ea4ca3",
   "metadata": {},
   "outputs": [
    {
     "name": "stdout",
     "output_type": "stream",
     "text": [
      "I HAD always\n",
      " HAD always thought\n"
     ]
    }
   ],
   "source": [
    "class GPTDataset(Dataset):\n",
    "    def __init__(self, text, tokenizer, max_length, stride):\n",
    "        super().__init__()\n",
    "\n",
    "        self.input_ids = []\n",
    "        self.target_ids = []\n",
    "\n",
    "        token_ids = tokenizer.encode(text, allowed_special={\"<|endoftext|>\"})\n",
    "\n",
    "        for i in range(0, len(token_ids) - max_length, stride):\n",
    "            input_chunk = token_ids[i: i + max_length]\n",
    "            output_chunk = token_ids[i + 1: i + max_length + 1]\n",
    "            self.input_ids.append(input_chunk)\n",
    "            self.target_ids.append(output_chunk)\n",
    "\n",
    "        self.input_ids = torch.tensor(self.input_ids)\n",
    "        self.target_ids = torch.tensor(self.target_ids)\n",
    "\n",
    "    def __len__(self):\n",
    "        return len(self.input_ids)\n",
    "    \n",
    "    def __getitem__(self, index):\n",
    "        return self.input_ids[index], self.target_ids[index]\n",
    "    \n",
    "def create_dataloader(text, batch_size=4, max_length=4, stride=128, shuffle=True, drop_last=True, num_workers=0):\n",
    "    tokenizer = tiktoken.get_encoding('gpt2')\n",
    "    dataset = GPTDataset(text, tokenizer, max_length, stride)\n",
    "    dataloader = DataLoader(dataset,\n",
    "                            batch_size=batch_size,\n",
    "                            shuffle=shuffle,\n",
    "                            drop_last=drop_last,\n",
    "                            num_workers=num_workers)\n",
    "    return dataloader\n",
    "\n",
    "with open(\"data/the-verdict.txt\", 'r', encoding='utf-8') as f:\n",
    "    raw_text = f.read()\n",
    "dataloader = create_dataloader(raw_text, batch_size=1, max_length=4, stride=1, shuffle=False)\n",
    "\n",
    "dataiter = iter(dataloader)\n",
    "first_batch = next(dataiter)\n",
    "print(tokenizer.decode(first_batch[0].tolist()[0]))\n",
    "print(tokenizer.decode(first_batch[1].tolist()[0]))"
   ]
  },
  {
   "cell_type": "code",
   "execution_count": null,
   "id": "8dd364a4",
   "metadata": {},
   "outputs": [],
   "source": []
  },
  {
   "cell_type": "code",
   "execution_count": null,
   "id": "90ef19ce",
   "metadata": {},
   "outputs": [],
   "source": []
  },
  {
   "cell_type": "code",
   "execution_count": null,
   "id": "155e1e16",
   "metadata": {},
   "outputs": [],
   "source": []
  }
 ],
 "metadata": {
  "kernelspec": {
   "display_name": ".venv",
   "language": "python",
   "name": "python3"
  },
  "language_info": {
   "codemirror_mode": {
    "name": "ipython",
    "version": 3
   },
   "file_extension": ".py",
   "mimetype": "text/x-python",
   "name": "python",
   "nbconvert_exporter": "python",
   "pygments_lexer": "ipython3",
   "version": "3.10.10"
  }
 },
 "nbformat": 4,
 "nbformat_minor": 5
}
