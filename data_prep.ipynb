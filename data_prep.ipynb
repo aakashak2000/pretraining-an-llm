{
 "cells": [
  {
   "cell_type": "markdown",
   "id": "259b25a3",
   "metadata": {},
   "source": [
    "## LOADING DATASET"
   ]
  },
  {
   "cell_type": "code",
   "execution_count": 2,
   "id": "9d40897c",
   "metadata": {},
   "outputs": [
    {
     "name": "stdout",
     "output_type": "stream",
     "text": [
      "num characters: 20479\n"
     ]
    },
    {
     "data": {
      "text/plain": [
       "'I HAD always thought Jack Gisburn rather a cheap genius--though a good fellow enough--so it was no g'"
      ]
     },
     "execution_count": 2,
     "metadata": {},
     "output_type": "execute_result"
    }
   ],
   "source": [
    "with open(\"data/the-verdict.txt\", 'r', encoding='utf-8') as f:\n",
    "    raw_text = f.read()\n",
    "\n",
    "print(f\"num characters: {len(raw_text)}\")\n",
    "raw_text[:100]"
   ]
  },
  {
   "cell_type": "markdown",
   "id": "29eaaec3",
   "metadata": {},
   "source": [
    "## TOKENIZING"
   ]
  },
  {
   "cell_type": "code",
   "execution_count": 52,
   "id": "d14ef8be",
   "metadata": {},
   "outputs": [
    {
     "name": "stdout",
     "output_type": "stream",
     "text": [
      "['!', '\"', \"'\", '(', ')', ',', '--', '.', ':', ';']\n",
      "Vocab size: 1132\n"
     ]
    }
   ],
   "source": [
    "import re\n",
    "\n",
    "preprocessed = re.split(f'([,.:;?_!\"()\\']|--|\\s)', raw_text)\n",
    "preprocessed = [word for word in preprocessed if word.strip()]\n",
    "all_words = sorted(set(preprocessed))\n",
    "all_words.extend(['<|endoftext|>', '<|unk|>'])\n",
    "print(all_words[:10])\n",
    "print(f\"Vocab size: {len(all_words)}\")\n",
    "\n",
    "stoi = {word: i for i, word in enumerate(all_words)}\n",
    "itos = {i: word for i, word in enumerate(all_words)}\n",
    "\n"
   ]
  },
  {
   "cell_type": "code",
   "execution_count": 53,
   "id": "02302d58",
   "metadata": {},
   "outputs": [
    {
     "data": {
      "text/plain": [
       "'<|unk|>, do you like <|unk|> <|endoftext|> In the <|unk|> terraces of the <|unk|>.'"
      ]
     },
     "execution_count": 53,
     "metadata": {},
     "output_type": "execute_result"
    }
   ],
   "source": [
    "class Tokenizer:\n",
    "    def __init__(self, vocab):\n",
    "        self.stoi = {word: i for i, word in enumerate(vocab)}\n",
    "        self.itos = {i: word for i, word in enumerate(vocab)}\n",
    "\n",
    "    def encode(self, text):\n",
    "        preprocessed = re.split(r\"([!,.;:'\\\"?()]|--|\\s)\", text)\n",
    "        preprocessed = [word.strip() for word in preprocessed if word.strip()]\n",
    "        preprocessed = [word if word in self.stoi else \"<|unk|>\" for word in preprocessed]\n",
    "        ids = [self.stoi[word] for word in preprocessed]\n",
    "        return ids\n",
    "    \n",
    "    def decode(self, ids):\n",
    "        text = ' '.join([self.itos[idx] for idx in ids])\n",
    "        text = re.sub(r'\\s+([,.?;:\\'\"!()]|--)', r'\\1', text)\n",
    "        return text\n",
    "    \n",
    "\n",
    "tokenizer = Tokenizer(all_words)\n",
    "text1 = \"Hello, do you like football\"\n",
    "text2 = \"In the sunlut terraces of the palace.\"\n",
    "text = \" <|endoftext|> \".join((text1, text2))\n",
    "tokenizer.decode(tokenizer.encode(text))\n",
    "\n"
   ]
  },
  {
   "cell_type": "markdown",
   "id": "9bd4ea6f",
   "metadata": {},
   "source": [
    "## Byte-Pair Encoding (BPE)"
   ]
  },
  {
   "cell_type": "code",
   "execution_count": null,
   "id": "60536c5e",
   "metadata": {},
   "outputs": [],
   "source": []
  },
  {
   "cell_type": "code",
   "execution_count": null,
   "id": "b5d5843e",
   "metadata": {},
   "outputs": [],
   "source": []
  }
 ],
 "metadata": {
  "kernelspec": {
   "display_name": ".venv",
   "language": "python",
   "name": "python3"
  },
  "language_info": {
   "codemirror_mode": {
    "name": "ipython",
    "version": 3
   },
   "file_extension": ".py",
   "mimetype": "text/x-python",
   "name": "python",
   "nbconvert_exporter": "python",
   "pygments_lexer": "ipython3",
   "version": "3.10.10"
  }
 },
 "nbformat": 4,
 "nbformat_minor": 5
}
